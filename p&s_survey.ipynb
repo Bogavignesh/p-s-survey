{
  "nbformat": 4,
  "nbformat_minor": 0,
  "metadata": {
    "colab": {
      "provenance": []
    },
    "kernelspec": {
      "name": "python3",
      "display_name": "Python 3"
    },
    "language_info": {
      "name": "python"
    }
  },
  "cells": [
    {
      "cell_type": "code",
      "execution_count": 1,
      "metadata": {
        "colab": {
          "base_uri": "https://localhost:8080/"
        },
        "id": "8sSftDCnS6Lg",
        "outputId": "376043d8-a16b-48b5-ca8d-8a81bc9b6e79"
      },
      "outputs": [
        {
          "output_type": "stream",
          "name": "stdout",
          "text": [
            "Correlation: -0.83\n"
          ]
        }
      ],
      "source": [
        "import numpy as np\n",
        "import matplotlib.pyplot as plt\n",
        "\n",
        "engine_cc = np.array([125, 350, 110, 110, 125, 145, 145])\n",
        "mileage = np.array([55, 30, 60, 65, 50, 45, 65])\n",
        "n = np.size(engine_cc)\n",
        "x_bar = np.mean(engine_cc)\n",
        "y_bar = np.mean(mileage)\n",
        "cov = sum((engine_cc - x_bar) * (mileage - y_bar)) / n\n",
        "v1 = np.var(engine_cc)\n",
        "v2 = np.var(mileage)\n",
        "Correlation = cov / np.sqrt(v1 * v2)\n",
        "print(\"Correlation:\", round(Correlation, 3))\n"
      ]
    },
    {
      "cell_type": "code",
      "source": [],
      "metadata": {
        "id": "pGMT6ZFxTz9r"
      },
      "execution_count": null,
      "outputs": []
    }
  ]
}